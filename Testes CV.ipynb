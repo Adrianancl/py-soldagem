{
 "cells": [
  {
   "cell_type": "code",
   "execution_count": 6,
   "metadata": {},
   "outputs": [],
   "source": [
    "%matplotlib notebook\n",
    "import cv2\n",
    "import numpy as np\n",
    "from matplotlib import pyplot as plt\n",
    "import matplotlib.image as mpimg\n"
   ]
  },
  {
   "cell_type": "markdown",
   "metadata": {},
   "source": [
    "### Mostrando a imagem"
   ]
  },
  {
   "cell_type": "code",
   "execution_count": 32,
   "metadata": {},
   "outputs": [
    {
     "ename": "error",
     "evalue": "/Users/travis/build/skvark/opencv-python/opencv/modules/imgproc/src/hough.cpp:1244: error: (-5) The source image must be 8-bit, single-channel in function cvHoughCircles\n",
     "output_type": "error",
     "traceback": [
      "\u001b[0;31m---------------------------------------------------------------------------\u001b[0m",
      "\u001b[0;31merror\u001b[0m                                     Traceback (most recent call last)",
      "\u001b[0;32m<ipython-input-32-1612c03144c5>\u001b[0m in \u001b[0;36m<module>\u001b[0;34m()\u001b[0m\n\u001b[1;32m      5\u001b[0m \u001b[0;34m\u001b[0m\u001b[0m\n\u001b[1;32m      6\u001b[0m circles = cv2.HoughCircles(img,cv2.HOUGH_GRADIENT,1,20,\n\u001b[0;32m----> 7\u001b[0;31m                             param1=50,param2=30,minRadius=0,maxRadius=0)\n\u001b[0m\u001b[1;32m      8\u001b[0m \u001b[0;34m\u001b[0m\u001b[0m\n\u001b[1;32m      9\u001b[0m \u001b[0mcircles\u001b[0m \u001b[0;34m=\u001b[0m \u001b[0mnp\u001b[0m\u001b[0;34m.\u001b[0m\u001b[0muint16\u001b[0m\u001b[0;34m(\u001b[0m\u001b[0mnp\u001b[0m\u001b[0;34m.\u001b[0m\u001b[0maround\u001b[0m\u001b[0;34m(\u001b[0m\u001b[0mcircles\u001b[0m\u001b[0;34m)\u001b[0m\u001b[0;34m)\u001b[0m\u001b[0;34m\u001b[0m\u001b[0m\n",
      "\u001b[0;31merror\u001b[0m: /Users/travis/build/skvark/opencv-python/opencv/modules/imgproc/src/hough.cpp:1244: error: (-5) The source image must be 8-bit, single-channel in function cvHoughCircles\n"
     ]
    }
   ],
   "source": [
    "\n",
    "img = cv2.imread('imgs/31.jpg')\n",
    "img = cv2.medianBlur(img,5)\n",
    "cimg = cv2.cvtColor(img,4)\n",
    "\n",
    "circles = cv2.HoughCircles(img,cv2.HOUGH_GRADIENT,1,20,\n",
    "                            param1=50,param2=30,minRadius=0,maxRadius=0)\n",
    "circles = np.uint16(np.around(circles))\n",
    "for i in circles[0,:]:\n",
    "    # draw the outer circle\n",
    "    cv2.circle(cimg,(i[0],i[1]),i[2],(0,255,0),2)\n",
    "    # draw the center of the circle\n",
    "    cv2.circle(cimg,(i[0],i[1]),2,(0,0,255),3)\n",
    "\n",
    "\n",
    "plt.imshow(cimg)\n"
   ]
  },
  {
   "cell_type": "markdown",
   "metadata": {},
   "source": [
    "# Testando escala de cinza"
   ]
  },
  {
   "cell_type": "code",
   "execution_count": 14,
   "metadata": {},
   "outputs": [
    {
     "data": {
      "text/plain": [
       "array([[[200, 200, 194],\n",
       "        [200, 200, 194],\n",
       "        [200, 200, 194],\n",
       "        ..., \n",
       "        [195, 194, 190],\n",
       "        [195, 194, 190],\n",
       "        [195, 194, 190]],\n",
       "\n",
       "       [[200, 200, 194],\n",
       "        [200, 200, 194],\n",
       "        [200, 200, 195],\n",
       "        ..., \n",
       "        [195, 194, 190],\n",
       "        [195, 194, 190],\n",
       "        [195, 194, 190]],\n",
       "\n",
       "       [[200, 200, 195],\n",
       "        [200, 200, 195],\n",
       "        [200, 200, 195],\n",
       "        ..., \n",
       "        [195, 194, 190],\n",
       "        [195, 194, 190],\n",
       "        [195, 194, 190]],\n",
       "\n",
       "       ..., \n",
       "       [[163, 167, 161],\n",
       "        [163, 167, 160],\n",
       "        [163, 166, 159],\n",
       "        ..., \n",
       "        [172, 176, 168],\n",
       "        [172, 176, 168],\n",
       "        [172, 176, 168]],\n",
       "\n",
       "       [[163, 167, 161],\n",
       "        [163, 167, 161],\n",
       "        [163, 166, 160],\n",
       "        ..., \n",
       "        [172, 176, 168],\n",
       "        [173, 176, 169],\n",
       "        [173, 176, 169]],\n",
       "\n",
       "       [[163, 169, 162],\n",
       "        [163, 167, 161],\n",
       "        [162, 167, 160],\n",
       "        ..., \n",
       "        [172, 176, 168],\n",
       "        [173, 176, 169],\n",
       "        [173, 176, 170]]], dtype=uint8)"
      ]
     },
     "execution_count": 14,
     "metadata": {},
     "output_type": "execute_result"
    }
   ],
   "source": [
    "img = cv2.medianBlur(img,5)\n",
    "img\n"
   ]
  },
  {
   "cell_type": "code",
   "execution_count": null,
   "metadata": {
    "collapsed": true
   },
   "outputs": [],
   "source": [
    "\n",
    "cimg = cv2.cvtColor(img,cv2.COLOR_GRAY2BGR)\n",
    "\n",
    "circles = cv2.HoughCircles(img,cv2.HOUGH_GRADIENT,1,20,\n",
    "                            param1=50,param2=30,minRadius=0,maxRadius=0)\n",
    "\n",
    "circles = np.uint16(np.around(circles))\n",
    "for i in circles[0,:]:\n",
    "    # draw the outer circle\n",
    "    cv2.circle(cimg,(i[0],i[1]),i[2],(0,255,0),2)\n",
    "    # draw the center of the circle\n",
    "    cv2.circle(cimg,(i[0],i[1]),2,(0,0,255),3)\n",
    "\n",
    "cv2.imshow('detected circles',cimg)\n",
    "cv2.waitKey(0)\n",
    "cv2.destroyAllWindows()"
   ]
  }
 ],
 "metadata": {
  "kernelspec": {
   "display_name": "Python 2",
   "language": "python",
   "name": "python2"
  },
  "language_info": {
   "codemirror_mode": {
    "name": "ipython",
    "version": 2
   },
   "file_extension": ".py",
   "mimetype": "text/x-python",
   "name": "python",
   "nbconvert_exporter": "python",
   "pygments_lexer": "ipython2",
   "version": "2.7.13"
  }
 },
 "nbformat": 4,
 "nbformat_minor": 2
}
